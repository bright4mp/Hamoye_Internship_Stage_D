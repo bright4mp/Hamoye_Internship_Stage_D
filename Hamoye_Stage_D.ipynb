{
  "metadata": {
    "kernelspec": {
      "language": "python",
      "display_name": "Python 3",
      "name": "python3"
    },
    "language_info": {
      "name": "python",
      "version": "3.7.12",
      "mimetype": "text/x-python",
      "codemirror_mode": {
        "name": "ipython",
        "version": 3
      },
      "pygments_lexer": "ipython3",
      "nbconvert_exporter": "python",
      "file_extension": ".py"
    },
    "kaggle": {
      "accelerator": "none",
      "dataSources": [
        {
          "sourceId": 6322,
          "databundleVersionId": 868312,
          "sourceType": "competition"
        },
        {
          "sourceId": 938046,
          "sourceType": "datasetVersion",
          "datasetId": 503255
        }
      ],
      "dockerImageVersionId": 30357,
      "isInternetEnabled": true,
      "language": "python",
      "sourceType": "notebook",
      "isGpuEnabled": false
    },
    "colab": {
      "name": "Labeling Satellite Images Using NN",
      "provenance": [],
      "toc_visible": true
    }
  },
  "nbformat_minor": 0,
  "nbformat": 4,
  "cells": [
    {
      "source": [
        "\n",
        "# IMPORTANT: RUN THIS CELL IN ORDER TO IMPORT YOUR KAGGLE DATA SOURCES\n",
        "# TO THE CORRECT LOCATION (/kaggle/input) IN YOUR NOTEBOOK,\n",
        "# THEN FEEL FREE TO DELETE THIS CELL.\n",
        "# NOTE: THIS NOTEBOOK ENVIRONMENT DIFFERS FROM KAGGLE'S PYTHON\n",
        "# ENVIRONMENT SO THERE MAY BE MISSING LIBRARIES USED BY YOUR\n",
        "# NOTEBOOK.\n",
        "\n",
        "import os\n",
        "import sys\n",
        "from tempfile import NamedTemporaryFile\n",
        "from urllib.request import urlopen\n",
        "from urllib.parse import unquote, urlparse\n",
        "from urllib.error import HTTPError\n",
        "from zipfile import ZipFile\n",
        "import tarfile\n",
        "import shutil\n",
        "\n",
        "CHUNK_SIZE = 40960\n",
        "DATA_SOURCE_MAPPING = 'planet-understanding-the-amazon-from-space:https%3A%2F%2Fstorage.googleapis.com%2Fkaggle-competitions-data%2Fkaggle-v2%2F6322%2F868312%2Fbundle%2Farchive.zip%3FX-Goog-Algorithm%3DGOOG4-RSA-SHA256%26X-Goog-Credential%3Dgcp-kaggle-com%2540kaggle-161607.iam.gserviceaccount.com%252F20240604%252Fauto%252Fstorage%252Fgoog4_request%26X-Goog-Date%3D20240604T225305Z%26X-Goog-Expires%3D259200%26X-Goog-SignedHeaders%3Dhost%26X-Goog-Signature%3D3e276d304f02a258311781b420a815300c35e51bd75256e54e3ac8240a72e0b9ddbec2d2e463fd8e66e1303f55c78cbb33a64afb57afdeeeb935ff60daaf7e2da7769c398fcb2a5d3aafdd8be009e4832fdf50fcc9babae6327d082ce370277d7707f5b7d342e55b80d65cd95347a8fe45c2fcb8e31230ff0441e7eaca03854cd4c07aff9c87f0b73c137d5de75f2937e33c2af96efceed7137b54d57e7af50c9fd67964479ee6b5341b1130db09a79ab6cf4525cce5eb02653de4824d10ac5dc975448fb66c336903b3ad136ef811987f016fb60fccadee186814d345647df7241741ef7d951efd52f39e70bbb7d63aa5d05b148534766ece2bb890bcac166f,planets-dataset:https%3A%2F%2Fstorage.googleapis.com%2Fkaggle-data-sets%2F503255%2F938046%2Fbundle%2Farchive.zip%3FX-Goog-Algorithm%3DGOOG4-RSA-SHA256%26X-Goog-Credential%3Dgcp-kaggle-com%2540kaggle-161607.iam.gserviceaccount.com%252F20240604%252Fauto%252Fstorage%252Fgoog4_request%26X-Goog-Date%3D20240604T225305Z%26X-Goog-Expires%3D259200%26X-Goog-SignedHeaders%3Dhost%26X-Goog-Signature%3D4ae5c53a9cf71d00aa2b2ca346075cf0dae863c84b3e5524668a5ac37671464a8651e033d43d266f58fd275c26931a0062d1dffd06955eda888791a832ce8b82d0e23d40ab0718753374f3ce8bbdc8df3b248dbe2d74a974f1719dd84249fa51db3f543b5f2da31ce5bce53173da2f3dc23645d1f0c5d5a5b16e26b4a2480265a208cd9082395a84e85f12c426b1b9cae67a912e2760bbe1186f28f8323ebd3412398db56196b9809a8e734c62562613ba1d1ae711a87fa9313dfff4096793f867078b08139649f1689d544d29dadf8815176129467faa014f3526e213c6e57f988c6a29a8028d18b2fd3081e1a1a50044500bfaa877e0dbf5f0294947bb978c'\n",
        "\n",
        "KAGGLE_INPUT_PATH='/kaggle/input'\n",
        "KAGGLE_WORKING_PATH='/kaggle/working'\n",
        "KAGGLE_SYMLINK='kaggle'\n",
        "\n",
        "!umount /kaggle/input/ 2> /dev/null\n",
        "shutil.rmtree('/kaggle/input', ignore_errors=True)\n",
        "os.makedirs(KAGGLE_INPUT_PATH, 0o777, exist_ok=True)\n",
        "os.makedirs(KAGGLE_WORKING_PATH, 0o777, exist_ok=True)\n",
        "\n",
        "try:\n",
        "  os.symlink(KAGGLE_INPUT_PATH, os.path.join(\"..\", 'input'), target_is_directory=True)\n",
        "except FileExistsError:\n",
        "  pass\n",
        "try:\n",
        "  os.symlink(KAGGLE_WORKING_PATH, os.path.join(\"..\", 'working'), target_is_directory=True)\n",
        "except FileExistsError:\n",
        "  pass\n",
        "\n",
        "for data_source_mapping in DATA_SOURCE_MAPPING.split(','):\n",
        "    directory, download_url_encoded = data_source_mapping.split(':')\n",
        "    download_url = unquote(download_url_encoded)\n",
        "    filename = urlparse(download_url).path\n",
        "    destination_path = os.path.join(KAGGLE_INPUT_PATH, directory)\n",
        "    try:\n",
        "        with urlopen(download_url) as fileres, NamedTemporaryFile() as tfile:\n",
        "            total_length = fileres.headers['content-length']\n",
        "            print(f'Downloading {directory}, {total_length} bytes compressed')\n",
        "            dl = 0\n",
        "            data = fileres.read(CHUNK_SIZE)\n",
        "            while len(data) > 0:\n",
        "                dl += len(data)\n",
        "                tfile.write(data)\n",
        "                done = int(50 * dl / int(total_length))\n",
        "                sys.stdout.write(f\"\\r[{'=' * done}{' ' * (50-done)}] {dl} bytes downloaded\")\n",
        "                sys.stdout.flush()\n",
        "                data = fileres.read(CHUNK_SIZE)\n",
        "            if filename.endswith('.zip'):\n",
        "              with ZipFile(tfile) as zfile:\n",
        "                zfile.extractall(destination_path)\n",
        "            else:\n",
        "              with tarfile.open(tfile.name) as tarfile:\n",
        "                tarfile.extractall(destination_path)\n",
        "            print(f'\\nDownloaded and uncompressed: {directory}')\n",
        "    except HTTPError as e:\n",
        "        print(f'Failed to load (likely expired) {download_url} to path {destination_path}')\n",
        "        continue\n",
        "    except OSError as e:\n",
        "        print(f'Failed to load {download_url} to path {destination_path}')\n",
        "        continue\n",
        "\n",
        "print('Data source import complete.')\n"
      ],
      "metadata": {
        "id": "4IDR5Va8cM-j"
      },
      "cell_type": "code",
      "outputs": [],
      "execution_count": null
    },
    {
      "cell_type": "markdown",
      "source": [
        "## **Labeling of satellite images based on the different atmospheric conditions and different terrain regions using CNN.**"
      ],
      "metadata": {
        "id": "Mx05doc3cM-o"
      }
    },
    {
      "cell_type": "markdown",
      "source": [
        "### **Importing the libraries**"
      ],
      "metadata": {
        "id": "XT0rzSFncM-q"
      }
    },
    {
      "cell_type": "code",
      "source": [
        "import pandas as pd\n",
        "import numpy as np\n",
        "from sklearn.model_selection import train_test_split\n",
        "from sklearn.preprocessing import LabelEncoder\n",
        "from sklearn.utils import shuffle\n",
        "import cv2\n",
        "import tensorflow as tf\n",
        "from tensorflow.keras.models import Sequential\n",
        "from tensorflow.keras.layers import Conv2D, MaxPooling2D, Flatten, Dense\n",
        "from tensorflow.keras.optimizers import Adam\n",
        "from tensorflow.keras.callbacks import EarlyStopping\n",
        "from tqdm import tqdm\n",
        "import gc\n",
        "from keras import backend as K\n"
      ],
      "metadata": {
        "execution": {
          "iopub.status.busy": "2024-06-04T20:35:51.998646Z",
          "iopub.execute_input": "2024-06-04T20:35:51.99926Z",
          "iopub.status.idle": "2024-06-04T20:35:52.013038Z",
          "shell.execute_reply.started": "2024-06-04T20:35:51.999202Z",
          "shell.execute_reply": "2024-06-04T20:35:52.011135Z"
        },
        "trusted": true,
        "id": "_wEQT314cM-q"
      },
      "execution_count": null,
      "outputs": []
    },
    {
      "cell_type": "markdown",
      "source": [
        "## **Loading the datasets**"
      ],
      "metadata": {
        "id": "TqGuptAjcM-r"
      }
    },
    {
      "cell_type": "code",
      "source": [
        "#reading the labels\n",
        "train_label = pd.read_csv('../input/planets-dataset/planet/planet/train_classes.csv')\n",
        "sam_sub = pd.read_csv('../input/planets-dataset/planet/planet/sample_submission.csv')\n",
        "train_label.head()"
      ],
      "metadata": {
        "execution": {
          "iopub.status.busy": "2024-06-04T20:35:56.088014Z",
          "iopub.execute_input": "2024-06-04T20:35:56.088551Z",
          "iopub.status.idle": "2024-06-04T20:35:56.253909Z",
          "shell.execute_reply.started": "2024-06-04T20:35:56.088509Z",
          "shell.execute_reply": "2024-06-04T20:35:56.252469Z"
        },
        "trusted": true,
        "id": "f_uwmwLrcM-s"
      },
      "execution_count": null,
      "outputs": []
    },
    {
      "cell_type": "code",
      "source": [
        "encoder = LabelEncoder()"
      ],
      "metadata": {
        "execution": {
          "iopub.status.busy": "2024-06-04T20:36:00.801845Z",
          "iopub.execute_input": "2024-06-04T20:36:00.802401Z",
          "iopub.status.idle": "2024-06-04T20:36:00.810069Z",
          "shell.execute_reply.started": "2024-06-04T20:36:00.802354Z",
          "shell.execute_reply": "2024-06-04T20:36:00.808405Z"
        },
        "trusted": true,
        "id": "xQrVUmBfcM-t"
      },
      "execution_count": null,
      "outputs": []
    },
    {
      "cell_type": "code",
      "source": [
        "label_maps = pd.DataFrame()\n",
        "label_maps['tags'] = ['agriculture', 'artisinal_mine', 'bare_ground','blooming','blow_down','clear','cloudy','conventional_mine','cultivation','habitation','haze', 'partly_cloudy','primary','road','selective_logging','slash_burn','water']\n",
        "label_maps['map'] = encoder.fit_transform(label_maps['tags'])\n",
        "label_maps"
      ],
      "metadata": {
        "execution": {
          "iopub.status.busy": "2024-06-04T20:36:03.576266Z",
          "iopub.execute_input": "2024-06-04T20:36:03.576794Z",
          "iopub.status.idle": "2024-06-04T20:36:03.603977Z",
          "shell.execute_reply.started": "2024-06-04T20:36:03.576756Z",
          "shell.execute_reply": "2024-06-04T20:36:03.602219Z"
        },
        "trusted": true,
        "id": "rUV0M9lhcM-u"
      },
      "execution_count": null,
      "outputs": []
    },
    {
      "cell_type": "code",
      "source": [
        "#defining a dict of encoded labels\n",
        "\n",
        "label_map = {'agriculture': 0,\n",
        " 'artisinal_mine': 1,\n",
        " 'bare_ground': 2,\n",
        " 'blooming': 3,\n",
        " 'blow_down': 4,\n",
        " 'clear': 5,\n",
        " 'cloudy': 6,\n",
        " 'conventional_mine': 7,\n",
        " 'cultivation': 8,\n",
        " 'habitation': 9,\n",
        " 'haze': 10,\n",
        " 'partly_cloudy': 11,\n",
        " 'primary': 12,\n",
        " 'road': 13,\n",
        " 'selective_logging': 14,\n",
        " 'slash_burn': 15,\n",
        " 'water': 16}\n"
      ],
      "metadata": {
        "execution": {
          "iopub.status.busy": "2024-06-04T20:36:07.2805Z",
          "iopub.execute_input": "2024-06-04T20:36:07.280974Z",
          "iopub.status.idle": "2024-06-04T20:36:07.292121Z",
          "shell.execute_reply.started": "2024-06-04T20:36:07.280937Z",
          "shell.execute_reply": "2024-06-04T20:36:07.290384Z"
        },
        "trusted": true,
        "id": "pa11XAj4cM-u"
      },
      "execution_count": null,
      "outputs": []
    },
    {
      "cell_type": "code",
      "source": [
        "#loading the traing_images\n",
        "\n",
        "X = []\n",
        "Y = []\n",
        "train_label = shuffle(train_label,random_state=0)"
      ],
      "metadata": {
        "execution": {
          "iopub.status.busy": "2024-06-04T20:36:12.681843Z",
          "iopub.execute_input": "2024-06-04T20:36:12.682484Z",
          "iopub.status.idle": "2024-06-04T20:36:12.70227Z",
          "shell.execute_reply.started": "2024-06-04T20:36:12.682426Z",
          "shell.execute_reply": "2024-06-04T20:36:12.700008Z"
        },
        "trusted": true,
        "id": "uzt-2iZJcM-v"
      },
      "execution_count": null,
      "outputs": []
    },
    {
      "cell_type": "code",
      "source": [
        "for image_name, tags in tqdm(train_label.values, miniters=400):\n",
        "    arr = cv2.imread('../input/planets-dataset/planet/planet/train-jpg/{}.jpg'.format(image_name), cv2.IMREAD_UNCHANGED)\n",
        "    targets = np.zeros(17)\n",
        "    for t in tags.split(' '):\n",
        "      targets[label_map[t]] = 1\n",
        "    arr = cv2.resize(arr, (64, 64))\n",
        "    X.append(arr)\n",
        "    Y.append(targets)"
      ],
      "metadata": {
        "execution": {
          "iopub.status.busy": "2024-06-04T20:37:03.150533Z",
          "iopub.execute_input": "2024-06-04T20:37:03.150989Z",
          "iopub.status.idle": "2024-06-04T20:39:13.327952Z",
          "shell.execute_reply.started": "2024-06-04T20:37:03.150953Z",
          "shell.execute_reply": "2024-06-04T20:39:13.326429Z"
        },
        "trusted": true,
        "id": "qvqfuHVMcM-w"
      },
      "execution_count": null,
      "outputs": []
    },
    {
      "cell_type": "code",
      "source": [
        "X = np.array(X, np.float16)/255.0\n",
        "Y = np.array(Y)\n",
        "X_train, X_val, y_train, y_val = train_test_split(X, Y, test_size = 0.2, shuffle = True, random_state = 1)\n",
        "\n",
        "print(X_train.shape, y_train.shape, X_val.shape, y_val.shape)"
      ],
      "metadata": {
        "execution": {
          "iopub.status.busy": "2024-06-04T20:39:34.490597Z",
          "iopub.execute_input": "2024-06-04T20:39:34.491224Z",
          "iopub.status.idle": "2024-06-04T20:39:44.253681Z",
          "shell.execute_reply.started": "2024-06-04T20:39:34.491145Z",
          "shell.execute_reply": "2024-06-04T20:39:44.252114Z"
        },
        "trusted": true,
        "id": "vAA5l7DpcM-w"
      },
      "execution_count": null,
      "outputs": []
    },
    {
      "cell_type": "code",
      "source": [
        "del X, Y\n",
        "gc.collect()"
      ],
      "metadata": {
        "execution": {
          "iopub.status.busy": "2024-06-04T20:39:56.992118Z",
          "iopub.execute_input": "2024-06-04T20:39:56.992726Z",
          "iopub.status.idle": "2024-06-04T20:39:57.344748Z",
          "shell.execute_reply.started": "2024-06-04T20:39:56.992682Z",
          "shell.execute_reply": "2024-06-04T20:39:57.343187Z"
        },
        "trusted": true,
        "id": "Plgf_41FcM-x"
      },
      "execution_count": null,
      "outputs": []
    },
    {
      "cell_type": "code",
      "source": [
        "gc.collect()\n"
      ],
      "metadata": {
        "execution": {
          "iopub.status.busy": "2024-06-04T20:40:19.158654Z",
          "iopub.execute_input": "2024-06-04T20:40:19.159314Z",
          "iopub.status.idle": "2024-06-04T20:40:19.525427Z",
          "shell.execute_reply.started": "2024-06-04T20:40:19.159258Z",
          "shell.execute_reply": "2024-06-04T20:40:19.523383Z"
        },
        "trusted": true,
        "id": "jQLiCIlGcM-x"
      },
      "execution_count": null,
      "outputs": []
    },
    {
      "cell_type": "code",
      "source": [
        "def fbeta(y_true, y_pred, beta=2, threshold=0.0):\n",
        "    y_pred = K.clip(y_pred, min_value=0.0, max_value=1.0)\n",
        "    y_pred_bin = K.round(y_pred + threshold)\n",
        "    tp = K.sum(K.cast(y_true * y_pred_bin, dtype='float32')) + K.epsilon()\n",
        "    fp = K.sum(K.cast(K.clip(y_pred_bin - y_true, 0, 1), dtype='float32'))\n",
        "    fn = K.sum(K.cast(K.clip(y_true - y_pred, 0, 1), dtype='float32'))\n",
        "    precision = tp / (tp + fp)\n",
        "    recall = tp / (tp + fn)\n",
        "    beta_squared = beta ** 2\n",
        "    fbeta_score = (1 + beta_squared) * (precision * recall) / (beta_squared * precision + recall + K.epsilon())\n",
        "    return fbeta_score"
      ],
      "metadata": {
        "execution": {
          "iopub.status.busy": "2024-06-04T20:40:37.494279Z",
          "iopub.execute_input": "2024-06-04T20:40:37.495933Z",
          "iopub.status.idle": "2024-06-04T20:40:37.509116Z",
          "shell.execute_reply.started": "2024-06-04T20:40:37.495863Z",
          "shell.execute_reply": "2024-06-04T20:40:37.5072Z"
        },
        "trusted": true,
        "id": "hbs1GEaXcM-x"
      },
      "execution_count": null,
      "outputs": []
    },
    {
      "cell_type": "markdown",
      "source": [
        "## **Define the model**"
      ],
      "metadata": {
        "id": "Z4BXC3kOcM-x"
      }
    },
    {
      "cell_type": "code",
      "source": [
        "model = Sequential()\n",
        "model.add(Conv2D(64, 5, 2, activation=\"relu\", input_shape=(64, 64, 3)))\n",
        "model.add(MaxPooling2D())\n",
        "model.add(Conv2D(128, 5, 2, activation=\"relu\"))\n",
        "model.add(MaxPooling2D())\n",
        "model.add(Flatten())\n",
        "model.add(Dense(512, activation=\"relu\"))\n",
        "model.add(Dense(17, activation=\"sigmoid\"))\n",
        "\n",
        "model.compile(loss=\"binary_crossentropy\", optimizer=Adam(), metrics=[fbeta])\n",
        "\n",
        "# Early stopping\n",
        "early_stopping = EarlyStopping(monitor='val_loss', patience=5, verbose=1)\n",
        "\n",
        "# Training model\n",
        "history = model.fit(X_train, y_train, validation_data=(X_val, y_val), epochs=45, batch_size=64, callbacks=[early_stopping])"
      ],
      "metadata": {
        "execution": {
          "iopub.status.busy": "2024-06-04T20:41:22.69284Z",
          "iopub.execute_input": "2024-06-04T20:41:22.693511Z",
          "iopub.status.idle": "2024-06-04T21:12:07.250867Z",
          "shell.execute_reply.started": "2024-06-04T20:41:22.693453Z",
          "shell.execute_reply": "2024-06-04T21:12:07.249474Z"
        },
        "trusted": true,
        "id": "YwBiPtPgcM-y"
      },
      "execution_count": null,
      "outputs": []
    },
    {
      "cell_type": "code",
      "source": [
        "gc.collect()"
      ],
      "metadata": {
        "execution": {
          "iopub.status.busy": "2024-06-04T21:12:28.356416Z",
          "iopub.execute_input": "2024-06-04T21:12:28.357043Z",
          "iopub.status.idle": "2024-06-04T21:12:28.818892Z",
          "shell.execute_reply.started": "2024-06-04T21:12:28.356995Z",
          "shell.execute_reply": "2024-06-04T21:12:28.817279Z"
        },
        "trusted": true,
        "id": "pxBe_QZ4cM-y"
      },
      "execution_count": null,
      "outputs": []
    },
    {
      "cell_type": "code",
      "source": [
        "test_loss, test_accuracy = model.evaluate(X_val, y_val)\n",
        "print('Test loss: {}'.format(test_loss))\n",
        "print('Test accuracy: {}'.format(test_accuracy))"
      ],
      "metadata": {
        "execution": {
          "iopub.status.busy": "2024-06-04T21:12:45.889572Z",
          "iopub.execute_input": "2024-06-04T21:12:45.890147Z",
          "iopub.status.idle": "2024-06-04T21:12:50.457871Z",
          "shell.execute_reply.started": "2024-06-04T21:12:45.890098Z",
          "shell.execute_reply": "2024-06-04T21:12:50.456314Z"
        },
        "trusted": true,
        "id": "4-kdvNHKcM-y"
      },
      "execution_count": null,
      "outputs": []
    },
    {
      "cell_type": "code",
      "source": [
        "# Split the data into two parts\n",
        "test_part1 = sam_sub.iloc[:40669]\n",
        "test_part2 = sam_sub.iloc[40669:]\n",
        "\n",
        "# Load and preprocess images from the first directory\n",
        "test_img_part1 = []\n",
        "for image_name in tqdm(test_part1['image_name'], miniters=1000):\n",
        "    arr = cv2.imread(f'../input/planets-dataset/planet/planet/test-jpg/{image_name}.jpg', cv2.IMREAD_UNCHANGED)\n",
        "    arr = cv2.resize(arr, (64, 64))\n",
        "    test_img_part1.append(arr)\n",
        "\n",
        "# Load and preprocess images from the second directory\n",
        "test_img_part2 = []\n",
        "for image_name in tqdm(test_part2['image_name'], miniters=1000):\n",
        "    arr = cv2.imread(f'../input/planets-dataset/test-jpg-additional/test-jpg-additional/{image_name}.jpg', cv2.IMREAD_UNCHANGED)\n",
        "    arr = cv2.resize(arr, (64, 64))\n",
        "    test_img_part2.append(arr)\n"
      ],
      "metadata": {
        "execution": {
          "iopub.status.busy": "2024-06-04T21:13:03.482108Z",
          "iopub.execute_input": "2024-06-04T21:13:03.482631Z",
          "iopub.status.idle": "2024-06-04T21:18:51.08461Z",
          "shell.execute_reply.started": "2024-06-04T21:13:03.482588Z",
          "shell.execute_reply": "2024-06-04T21:18:51.08287Z"
        },
        "trusted": true,
        "id": "ueHz0cwJcM-y"
      },
      "execution_count": null,
      "outputs": []
    },
    {
      "cell_type": "code",
      "source": [
        "# Concatenate the two parts of images\n",
        "test_img = np.concatenate([test_img_part1, test_img_part2], axis=0)\n",
        "\n",
        "# Normalize the images\n",
        "test_img = test_img.astype(np.float16) / 255.0\n",
        "\n",
        "# Predict on the test set\n",
        "predictions = model.predict(test_img)\n",
        "\n",
        "# Convert predictions to tags\n",
        "threshold = 0.0\n",
        "preds = []\n",
        "\n",
        "# Iterate through each prediction\n",
        "for pred in predictions:\n",
        "    # Get the indices where the prediction is above the threshold\n",
        "    indices = [i for i, p in enumerate(pred) if p > threshold]\n",
        "\n",
        "    # Map the indices to their corresponding tags using label_maps\n",
        "    tags = [label_maps.iloc[i]['tags'] for i in indices]\n",
        "\n",
        "    # Join the tags into a single string\n",
        "    preds.append(' '.join(tags))"
      ],
      "metadata": {
        "execution": {
          "iopub.status.busy": "2024-06-04T21:22:49.081645Z",
          "iopub.execute_input": "2024-06-04T21:22:49.083301Z",
          "iopub.status.idle": "2024-06-04T21:23:53.622911Z",
          "shell.execute_reply.started": "2024-06-04T21:22:49.083226Z",
          "shell.execute_reply": "2024-06-04T21:23:53.621226Z"
        },
        "trusted": true,
        "id": "lGdvTStycM-y"
      },
      "execution_count": null,
      "outputs": []
    },
    {
      "cell_type": "code",
      "source": [
        "# Create submission file\n",
        "submission = pd.DataFrame({'image_name': sam_sub['image_name'], 'tags': preds})\n",
        "submission.to_csv('submission.csv', index=False)\n"
      ],
      "metadata": {
        "execution": {
          "iopub.status.busy": "2024-06-04T21:24:20.376268Z",
          "iopub.execute_input": "2024-06-04T21:24:20.376785Z",
          "iopub.status.idle": "2024-06-04T21:24:20.581879Z",
          "shell.execute_reply.started": "2024-06-04T21:24:20.376742Z",
          "shell.execute_reply": "2024-06-04T21:24:20.580576Z"
        },
        "trusted": true,
        "id": "sVpCu5ENcM-z"
      },
      "execution_count": null,
      "outputs": []
    }
  ]
}